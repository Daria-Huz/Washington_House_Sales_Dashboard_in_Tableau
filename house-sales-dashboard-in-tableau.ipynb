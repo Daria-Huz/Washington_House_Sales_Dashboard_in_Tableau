{
 "cells": [
  {
   "cell_type": "markdown",
   "id": "728d460e",
   "metadata": {
    "papermill": {
     "duration": 0.003093,
     "end_time": "2024-01-23T11:38:52.108226",
     "exception": false,
     "start_time": "2024-01-23T11:38:52.105133",
     "status": "completed"
    },
    "tags": []
   },
   "source": [
    "# KING COUNTY, WASHINGTON HOUSE SALES DASHBOARD\t\n",
    "1. Created with Tableau an interactive dashboard with a calendar widget as the main filter\n",
    "\n",
    "\n",
    "2. Dashboard include multiple visuals: \n",
    "- line chart “Daily Average House Sales Price”, \n",
    "- histogram “Distribution of House Prices”, \n",
    "- histogram “Distribution of Bedrooms “, \n",
    "- histogram “Distribution of Bathrooms”, \n",
    "- map, \n",
    "- heatmap “View vs Condition Heatmap”\n"
   ]
  },
  {
   "cell_type": "markdown",
   "id": "e7618537",
   "metadata": {
    "papermill": {
     "duration": 0.001892,
     "end_time": "2024-01-23T11:38:52.112656",
     "exception": false,
     "start_time": "2024-01-23T11:38:52.110764",
     "status": "completed"
    },
    "tags": []
   },
   "source": [
    "https://public.tableau.com/app/profile/huz.daria/viz/HouseSalesinKingCountyUSA_17045187932960/Dashboard1"
   ]
  },
  {
   "cell_type": "markdown",
   "id": "58f61561",
   "metadata": {
    "papermill": {
     "duration": 0.001935,
     "end_time": "2024-01-23T11:38:52.116728",
     "exception": false,
     "start_time": "2024-01-23T11:38:52.114793",
     "status": "completed"
    },
    "tags": []
   },
   "source": [
    "Kindly, upvote if you find the dashboard interesting. Thank you!"
   ]
  },
  {
   "cell_type": "code",
   "execution_count": null,
   "id": "2a6dea8e",
   "metadata": {
    "papermill": {
     "duration": 0.001879,
     "end_time": "2024-01-23T11:38:52.121238",
     "exception": false,
     "start_time": "2024-01-23T11:38:52.119359",
     "status": "completed"
    },
    "tags": []
   },
   "outputs": [],
   "source": []
  }
 ],
 "metadata": {
  "kaggle": {
   "accelerator": "none",
   "dataSources": [
    {
     "datasetId": 128,
     "sourceId": 270,
     "sourceType": "datasetVersion"
    }
   ],
   "dockerImageVersionId": 30635,
   "isGpuEnabled": false,
   "isInternetEnabled": true,
   "language": "python",
   "sourceType": "notebook"
  },
  "kernelspec": {
   "display_name": "Python 3",
   "language": "python",
   "name": "python3"
  },
  "language_info": {
   "codemirror_mode": {
    "name": "ipython",
    "version": 3
   },
   "file_extension": ".py",
   "mimetype": "text/x-python",
   "name": "python",
   "nbconvert_exporter": "python",
   "pygments_lexer": "ipython3",
   "version": "3.10.12"
  },
  "papermill": {
   "default_parameters": {},
   "duration": 3.966698,
   "end_time": "2024-01-23T11:38:52.543392",
   "environment_variables": {},
   "exception": null,
   "input_path": "__notebook__.ipynb",
   "output_path": "__notebook__.ipynb",
   "parameters": {},
   "start_time": "2024-01-23T11:38:48.576694",
   "version": "2.4.0"
  }
 },
 "nbformat": 4,
 "nbformat_minor": 5
}
